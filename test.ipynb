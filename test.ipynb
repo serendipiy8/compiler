{
 "cells": [
  {
   "cell_type": "code",
   "execution_count": null,
   "id": "initial_id",
   "metadata": {
    "collapsed": true
   },
   "outputs": [],
   "source": []
  },
  {
   "cell_type": "code",
   "execution_count": 20,
   "outputs": [
    {
     "ename": "ModuleNotFoundError",
     "evalue": "No module named 'ply'",
     "output_type": "error",
     "traceback": [
      "\u001B[1;31m---------------------------------------------------------------------------\u001B[0m",
      "\u001B[1;31mModuleNotFoundError\u001B[0m                       Traceback (most recent call last)",
      "Input \u001B[1;32mIn [20]\u001B[0m, in \u001B[0;36m<cell line: 1>\u001B[1;34m()\u001B[0m\n\u001B[1;32m----> 1\u001B[0m \u001B[38;5;28;01mimport\u001B[39;00m \u001B[38;5;21;01mply\u001B[39;00m\u001B[38;5;21;01m.\u001B[39;00m\u001B[38;5;21;01mlex\u001B[39;00m \u001B[38;5;28;01mas\u001B[39;00m \u001B[38;5;21;01mlex\u001B[39;00m\n\u001B[0;32m      3\u001B[0m \u001B[38;5;66;03m# 词法分析器的词法单元\u001B[39;00m\n\u001B[0;32m      4\u001B[0m tokens \u001B[38;5;241m=\u001B[39m (\n\u001B[0;32m      5\u001B[0m     \u001B[38;5;124m'\u001B[39m\u001B[38;5;124mIDENTIFIER\u001B[39m\u001B[38;5;124m'\u001B[39m,\n\u001B[0;32m      6\u001B[0m     \u001B[38;5;124m'\u001B[39m\u001B[38;5;124mINTEGER\u001B[39m\u001B[38;5;124m'\u001B[39m,\n\u001B[1;32m   (...)\u001B[0m\n\u001B[0;32m     16\u001B[0m     \u001B[38;5;124m'\u001B[39m\u001B[38;5;124mSEMICOLON\u001B[39m\u001B[38;5;124m'\u001B[39m,\n\u001B[0;32m     17\u001B[0m )\n",
      "\u001B[1;31mModuleNotFoundError\u001B[0m: No module named 'ply'"
     ]
    }
   ],
   "source": [
    "import ply.lex as lex\n",
    "\n",
    "# 词法分析器的词法单元\n",
    "tokens = (\n",
    "    'IDENTIFIER',\n",
    "    'INTEGER',\n",
    "    'FLOAT',\n",
    "    'STRING',\n",
    "    'PLUS',\n",
    "    'MINUS',\n",
    "    'TIMES',\n",
    "    'DIVIDE',\n",
    "    'LPAREN',\n",
    "    'RPAREN',\n",
    "    'ASSIGN',\n",
    "    'SEMICOLON',\n",
    ")\n",
    "\n",
    "# 正则表达式规定的词法单元\n",
    "t_PLUS = r'\\+'\n",
    "t_MINUS = r'-'\n",
    "t_TIMES = r'\\*'\n",
    "t_DIVIDE = r'/'\n",
    "t_LPAREN = r'\\('\n",
    "t_RPAREN = r'\\)'\n",
    "t_ASSIGN = r'='\n",
    "t_SEMICOLON = r';'\n",
    "\n",
    "# 正则表达式规定的词法单元，并在定义后进行处理\n",
    "def t_IDENTIFIER(t):\n",
    "    r'[a-zA-Z_][a-zA-Z0-9_]*'\n",
    "    return t\n",
    "\n",
    "def t_FLOAT(t):\n",
    "    r'\\d+\\.\\d+'\n",
    "    t.value = float(t.value)\n",
    "    return t\n",
    "\n",
    "def t_INTEGER(t):\n",
    "    r'\\d+'\n",
    "    t.value = int(t.value)\n",
    "    return t\n",
    "\n",
    "def t_STRING(t):\n",
    "    r'\"([^\\\\\"]|\\\\\")*\"'\n",
    "    t.value = t.value[1:-1]  # 去除引号\n",
    "    return t\n",
    "\n",
    "# 忽略空格和制表符\n",
    "t_ignore = ' \\t'\n",
    "\n",
    "# 处理换行符\n",
    "def t_newline(t):\n",
    "    r'\\n+'\n",
    "    t.lexer.lineno += len(t.value)\n",
    "\n",
    "# 错误处理\n",
    "def t_error(t):\n",
    "    print(f\"Illegal character '{t.value[0]}'\")\n",
    "    t.lexer.skip(1)\n",
    "\n",
    "lexer = lex.lex()\n",
    "\n",
    "# 测试\n",
    "data = \"\"\"\n",
    "int main() {\n",
    "    int a = 5;\n",
    "    float b = 3.14;\n",
    "    char c = 'A';\n",
    "    string d = \"Hello, World!\";\n",
    "    a = a + 1;\n",
    "    return 0;\n",
    "}\n",
    "\"\"\"\n",
    "\n",
    "lexer.input(data)\n",
    "\n",
    "# 打印识别到的词法单元\n",
    "for token in lexer:\n",
    "    print(token)\n"
   ],
   "metadata": {
    "collapsed": false,
    "ExecuteTime": {
     "end_time": "2024-01-01T08:52:09.879588200Z",
     "start_time": "2024-01-01T08:52:09.839948700Z"
    }
   },
   "id": "ad695eae3f720ae2"
  },
  {
   "cell_type": "code",
   "execution_count": 6,
   "outputs": [],
   "source": [
    "tokens={\n",
    "    #类别\n",
    "    \"IDENTIFIER\",\"CONSTANT\",\"STRING_CONSTANT\",\n",
    "    #关键字\n",
    "    \"INTEGER\",\"FLOAT\",\"DOUBLE\",\"STRING\",\n",
    "    #算术\n",
    "    \"PLUS\",\"MINUS\",\"MUL\",\"DIV\",\"MOD\",\"INCREMENT\",\"DECREMENT\",\n",
    "    #赋值\n",
    "    \"ASSIGN\",\n",
    "    #关系\n",
    "    \"EQUALS\",\"NOT_EQUALS\",\"LESS_THAN\",\"GREATER_THAN\",\"LESS_EQUALS\",\"GREATER_EQUALS\",\n",
    "    #逻辑\n",
    "    \"LOGICAL_NOT\",\"LOGICAL_OR\",\"LOGICAL_AND\",\n",
    "    #位运算符\n",
    "    \"BITWISE_OR\",\"BITWISE_XOR\",\"BITWISE_AND\",\"SHIFT_LEFT\",\"SHIFT_RIGHT\",\"BITWISE_NOT\",\n",
    "    #条件运算\n",
    "    \"COLON\",\"CONDITIONAL_OPERATOR\",\n",
    "    #逗号\n",
    "    \"COMMA\",\n",
    "    #括号\n",
    "    \"OPEN_PAREN\",\"CLOSE_PAREN\",\n",
    "    \"OPEN_BRACKET\",\"CLOSE_BRACKET\",\n",
    "    \"OPEN_BRACE\",\"CLOSE_BRACE\",\n",
    "    #分号\n",
    "    \"SEMICOLON\",\n",
    "    #点和指针\n",
    "    \"DOT\",\"ARROW\",\n",
    "}"
   ],
   "metadata": {
    "collapsed": false,
    "ExecuteTime": {
     "end_time": "2024-01-01T08:17:33.365551500Z",
     "start_time": "2024-01-01T08:17:33.340869100Z"
    }
   },
   "id": "81433494c19b5233"
  },
  {
   "cell_type": "code",
   "execution_count": 7,
   "outputs": [
    {
     "ename": "TypeError",
     "evalue": "'set' object is not subscriptable",
     "output_type": "error",
     "traceback": [
      "\u001B[1;31m---------------------------------------------------------------------------\u001B[0m",
      "\u001B[1;31mTypeError\u001B[0m                                 Traceback (most recent call last)",
      "Input \u001B[1;32mIn [7]\u001B[0m, in \u001B[0;36m<cell line: 1>\u001B[1;34m()\u001B[0m\n\u001B[1;32m----> 1\u001B[0m \u001B[43mtokens\u001B[49m\u001B[43m[\u001B[49m\u001B[38;5;241;43m0\u001B[39;49m\u001B[43m]\u001B[49m\n",
      "\u001B[1;31mTypeError\u001B[0m: 'set' object is not subscriptable"
     ]
    }
   ],
   "source": [
    "tokens[0]\n"
   ],
   "metadata": {
    "collapsed": false,
    "ExecuteTime": {
     "end_time": "2024-01-01T08:17:42.894863900Z",
     "start_time": "2024-01-01T08:17:42.874460700Z"
    }
   },
   "id": "69cb392ff73926db"
  },
  {
   "cell_type": "code",
   "execution_count": 8,
   "outputs": [
    {
     "data": {
      "text/plain": "['STRING_CONSTANT',\n 'DOUBLE',\n 'FLOAT',\n 'CONSTANT',\n 'DECREMENT',\n 'LOGICAL_AND',\n 'DIV',\n 'DOT',\n 'COLON',\n 'COMMA',\n 'IDENTIFIER',\n 'STRING',\n 'SEMICOLON',\n 'LESS_EQUALS',\n 'BITWISE_OR',\n 'CLOSE_BRACE',\n 'CLOSE_PAREN',\n 'ARROW',\n 'EQUALS',\n 'MINUS',\n 'ASSIGN',\n 'GREATER_THAN',\n 'BITWISE_XOR',\n 'MUL',\n 'PLUS',\n 'NOT_EQUALS',\n 'BITWISE_NOT',\n 'INTEGER',\n 'OPEN_PAREN',\n 'OPEN_BRACE',\n 'INCREMENT',\n 'CONDITIONAL_OPERATOR',\n 'SHIFT_RIGHT',\n 'OPEN_BRACKET',\n 'LESS_THAN',\n 'LOGICAL_NOT',\n 'BITWISE_AND',\n 'MOD',\n 'SHIFT_LEFT',\n 'LOGICAL_OR',\n 'GREATER_EQUALS',\n 'CLOSE_BRACKET']"
     },
     "execution_count": 8,
     "metadata": {},
     "output_type": "execute_result"
    }
   ],
   "source": [
    "list(tokens)"
   ],
   "metadata": {
    "collapsed": false,
    "ExecuteTime": {
     "end_time": "2024-01-01T08:17:58.601482900Z",
     "start_time": "2024-01-01T08:17:58.549199Z"
    }
   },
   "id": "e0f44a8d3b770b29"
  },
  {
   "cell_type": "code",
   "execution_count": 9,
   "outputs": [
    {
     "name": "stdout",
     "output_type": "stream",
     "text": [
      "['STRING_CONSTANT', 'DOUBLE', 'FLOAT', 'CONSTANT', 'DECREMENT', 'LOGICAL_AND', 'DIV', 'DOT', 'COLON', 'COMMA', 'IDENTIFIER', 'STRING', 'SEMICOLON', 'LESS_EQUALS', 'BITWISE_OR', 'CLOSE_BRACE', 'CLOSE_PAREN', 'ARROW', 'EQUALS', 'MINUS', 'ASSIGN', 'GREATER_THAN', 'BITWISE_XOR', 'MUL', 'PLUS', 'NOT_EQUALS', 'BITWISE_NOT', 'INTEGER', 'OPEN_PAREN', 'OPEN_BRACE', 'INCREMENT', 'CONDITIONAL_OPERATOR', 'SHIFT_RIGHT', 'OPEN_BRACKET', 'LESS_THAN', 'LOGICAL_NOT', 'BITWISE_AND', 'MOD', 'SHIFT_LEFT', 'LOGICAL_OR', 'GREATER_EQUALS', 'CLOSE_BRACKET']\n"
     ]
    }
   ],
   "source": [
    "a=list(tokens)\n",
    "print(a)"
   ],
   "metadata": {
    "collapsed": false,
    "ExecuteTime": {
     "end_time": "2024-01-01T08:18:56.026862300Z",
     "start_time": "2024-01-01T08:18:56.013068600Z"
    }
   },
   "id": "61e6479f05a0cce1"
  },
  {
   "cell_type": "code",
   "execution_count": 10,
   "outputs": [
    {
     "ename": "AttributeError",
     "evalue": "'list' object has no attribute 'splist'",
     "output_type": "error",
     "traceback": [
      "\u001B[1;31m---------------------------------------------------------------------------\u001B[0m",
      "\u001B[1;31mAttributeError\u001B[0m                            Traceback (most recent call last)",
      "Input \u001B[1;32mIn [10]\u001B[0m, in \u001B[0;36m<cell line: 1>\u001B[1;34m()\u001B[0m\n\u001B[1;32m----> 1\u001B[0m \u001B[43ma\u001B[49m\u001B[38;5;241;43m.\u001B[39;49m\u001B[43msplist\u001B[49m(\u001B[38;5;124m\"\u001B[39m\u001B[38;5;124m,\u001B[39m\u001B[38;5;124m\"\u001B[39m)\n",
      "\u001B[1;31mAttributeError\u001B[0m: 'list' object has no attribute 'splist'"
     ]
    }
   ],
   "source": [
    "a.splist(\",\")"
   ],
   "metadata": {
    "collapsed": false,
    "ExecuteTime": {
     "end_time": "2024-01-01T08:19:13.053621Z",
     "start_time": "2024-01-01T08:19:12.990406200Z"
    }
   },
   "id": "a18b1cbc2b91dccc"
  },
  {
   "cell_type": "code",
   "execution_count": 11,
   "outputs": [
    {
     "data": {
      "text/plain": "'STRING_CONSTANTt_'"
     },
     "execution_count": 11,
     "metadata": {},
     "output_type": "execute_result"
    }
   ],
   "source": [
    "a[0]+\"t_\""
   ],
   "metadata": {
    "collapsed": false,
    "ExecuteTime": {
     "end_time": "2024-01-01T08:20:43.318482500Z",
     "start_time": "2024-01-01T08:20:43.256012300Z"
    }
   },
   "id": "380f539dd3545e3c"
  },
  {
   "cell_type": "code",
   "execution_count": 12,
   "outputs": [
    {
     "data": {
      "text/plain": "['STRING_CONSTANT',\n 'DOUBLE',\n 'FLOAT',\n 'CONSTANT',\n 'DECREMENT',\n 'LOGICAL_AND',\n 'DIV',\n 'DOT',\n 'COLON',\n 'COMMA',\n 'IDENTIFIER',\n 'STRING',\n 'SEMICOLON',\n 'LESS_EQUALS',\n 'BITWISE_OR',\n 'CLOSE_BRACE',\n 'CLOSE_PAREN',\n 'ARROW',\n 'EQUALS',\n 'MINUS',\n 'ASSIGN',\n 'GREATER_THAN',\n 'BITWISE_XOR',\n 'MUL',\n 'PLUS',\n 'NOT_EQUALS',\n 'BITWISE_NOT',\n 'INTEGER',\n 'OPEN_PAREN',\n 'OPEN_BRACE',\n 'INCREMENT',\n 'CONDITIONAL_OPERATOR',\n 'SHIFT_RIGHT',\n 'OPEN_BRACKET',\n 'LESS_THAN',\n 'LOGICAL_NOT',\n 'BITWISE_AND',\n 'MOD',\n 'SHIFT_LEFT',\n 'LOGICAL_OR',\n 'GREATER_EQUALS',\n 'CLOSE_BRACKET']"
     },
     "execution_count": 12,
     "metadata": {},
     "output_type": "execute_result"
    }
   ],
   "source": [
    "a"
   ],
   "metadata": {
    "collapsed": false,
    "ExecuteTime": {
     "end_time": "2024-01-01T08:20:52.166434500Z",
     "start_time": "2024-01-01T08:20:52.149480100Z"
    }
   },
   "id": "7641ffbbbe3ae673"
  },
  {
   "cell_type": "code",
   "execution_count": 13,
   "outputs": [],
   "source": [
    "b=[]\n",
    "for i in range(0,len(a)-1):\n",
    "    c=\"t_\"+a[i]\n",
    "    b.append(c)"
   ],
   "metadata": {
    "collapsed": false,
    "ExecuteTime": {
     "end_time": "2024-01-01T08:22:13.422042Z",
     "start_time": "2024-01-01T08:22:13.341819400Z"
    }
   },
   "id": "771f8bd9b1b2494"
  },
  {
   "cell_type": "code",
   "execution_count": 14,
   "outputs": [
    {
     "data": {
      "text/plain": "['t_STRING_CONSTANT',\n 't_DOUBLE',\n 't_FLOAT',\n 't_CONSTANT',\n 't_DECREMENT',\n 't_LOGICAL_AND',\n 't_DIV',\n 't_DOT',\n 't_COLON',\n 't_COMMA',\n 't_IDENTIFIER',\n 't_STRING',\n 't_SEMICOLON',\n 't_LESS_EQUALS',\n 't_BITWISE_OR',\n 't_CLOSE_BRACE',\n 't_CLOSE_PAREN',\n 't_ARROW',\n 't_EQUALS',\n 't_MINUS',\n 't_ASSIGN',\n 't_GREATER_THAN',\n 't_BITWISE_XOR',\n 't_MUL',\n 't_PLUS',\n 't_NOT_EQUALS',\n 't_BITWISE_NOT',\n 't_INTEGER',\n 't_OPEN_PAREN',\n 't_OPEN_BRACE',\n 't_INCREMENT',\n 't_CONDITIONAL_OPERATOR',\n 't_SHIFT_RIGHT',\n 't_OPEN_BRACKET',\n 't_LESS_THAN',\n 't_LOGICAL_NOT',\n 't_BITWISE_AND',\n 't_MOD',\n 't_SHIFT_LEFT',\n 't_LOGICAL_OR',\n 't_GREATER_EQUALS']"
     },
     "execution_count": 14,
     "metadata": {},
     "output_type": "execute_result"
    }
   ],
   "source": [
    "b"
   ],
   "metadata": {
    "collapsed": false,
    "ExecuteTime": {
     "end_time": "2024-01-01T08:22:16.400635700Z",
     "start_time": "2024-01-01T08:22:16.383681Z"
    }
   },
   "id": "20bfb850fd85638d"
  },
  {
   "cell_type": "code",
   "execution_count": 15,
   "outputs": [],
   "source": [
    "d=tuple(b)"
   ],
   "metadata": {
    "collapsed": false,
    "ExecuteTime": {
     "end_time": "2024-01-01T08:23:17.691231200Z",
     "start_time": "2024-01-01T08:23:17.670524600Z"
    }
   },
   "id": "e8342b283808ffc5"
  },
  {
   "cell_type": "code",
   "execution_count": 16,
   "outputs": [
    {
     "data": {
      "text/plain": "('t_STRING_CONSTANT',\n 't_DOUBLE',\n 't_FLOAT',\n 't_CONSTANT',\n 't_DECREMENT',\n 't_LOGICAL_AND',\n 't_DIV',\n 't_DOT',\n 't_COLON',\n 't_COMMA',\n 't_IDENTIFIER',\n 't_STRING',\n 't_SEMICOLON',\n 't_LESS_EQUALS',\n 't_BITWISE_OR',\n 't_CLOSE_BRACE',\n 't_CLOSE_PAREN',\n 't_ARROW',\n 't_EQUALS',\n 't_MINUS',\n 't_ASSIGN',\n 't_GREATER_THAN',\n 't_BITWISE_XOR',\n 't_MUL',\n 't_PLUS',\n 't_NOT_EQUALS',\n 't_BITWISE_NOT',\n 't_INTEGER',\n 't_OPEN_PAREN',\n 't_OPEN_BRACE',\n 't_INCREMENT',\n 't_CONDITIONAL_OPERATOR',\n 't_SHIFT_RIGHT',\n 't_OPEN_BRACKET',\n 't_LESS_THAN',\n 't_LOGICAL_NOT',\n 't_BITWISE_AND',\n 't_MOD',\n 't_SHIFT_LEFT',\n 't_LOGICAL_OR',\n 't_GREATER_EQUALS')"
     },
     "execution_count": 16,
     "metadata": {},
     "output_type": "execute_result"
    }
   ],
   "source": [
    "d"
   ],
   "metadata": {
    "collapsed": false,
    "ExecuteTime": {
     "end_time": "2024-01-01T08:23:20.374366300Z",
     "start_time": "2024-01-01T08:23:20.362301Z"
    }
   },
   "id": "987672bc08f1c6cd"
  },
  {
   "cell_type": "code",
   "execution_count": 17,
   "outputs": [
    {
     "data": {
      "text/plain": "41"
     },
     "execution_count": 17,
     "metadata": {},
     "output_type": "execute_result"
    }
   ],
   "source": [
    "len(d)"
   ],
   "metadata": {
    "collapsed": false,
    "ExecuteTime": {
     "end_time": "2024-01-01T08:25:00.612843900Z",
     "start_time": "2024-01-01T08:25:00.591892900Z"
    }
   },
   "id": "c1cfab2f244da324"
  },
  {
   "cell_type": "code",
   "execution_count": 18,
   "outputs": [
    {
     "ename": "ModuleNotFoundError",
     "evalue": "No module named 'ply'",
     "output_type": "error",
     "traceback": [
      "\u001B[1;31m---------------------------------------------------------------------------\u001B[0m",
      "\u001B[1;31mModuleNotFoundError\u001B[0m                       Traceback (most recent call last)",
      "Input \u001B[1;32mIn [18]\u001B[0m, in \u001B[0;36m<cell line: 1>\u001B[1;34m()\u001B[0m\n\u001B[1;32m----> 1\u001B[0m \u001B[38;5;28;01mimport\u001B[39;00m \u001B[38;5;21;01mply\u001B[39;00m\u001B[38;5;21;01m.\u001B[39;00m\u001B[38;5;21;01mlex\u001B[39;00m \u001B[38;5;28;01mas\u001B[39;00m \u001B[38;5;21;01mlex\u001B[39;00m\n\u001B[0;32m      3\u001B[0m \u001B[38;5;66;03m# 定义保留字\u001B[39;00m\n\u001B[0;32m      4\u001B[0m reserved \u001B[38;5;241m=\u001B[39m {\n\u001B[0;32m      5\u001B[0m     \u001B[38;5;124m'\u001B[39m\u001B[38;5;124mint\u001B[39m\u001B[38;5;124m'\u001B[39m: \u001B[38;5;124m'\u001B[39m\u001B[38;5;124mINTEGER\u001B[39m\u001B[38;5;124m'\u001B[39m,\n\u001B[0;32m      6\u001B[0m     \u001B[38;5;124m'\u001B[39m\u001B[38;5;124mchar\u001B[39m\u001B[38;5;124m'\u001B[39m: \u001B[38;5;124m'\u001B[39m\u001B[38;5;124mCHAR\u001B[39m\u001B[38;5;124m'\u001B[39m,\n\u001B[1;32m   (...)\u001B[0m\n\u001B[0;32m     11\u001B[0m     \u001B[38;5;66;03m# 添加其他关键字...\u001B[39;00m\n\u001B[0;32m     12\u001B[0m }\n",
      "\u001B[1;31mModuleNotFoundError\u001B[0m: No module named 'ply'"
     ]
    }
   ],
   "source": [
    "import ply.lex as lex\n",
    "\n",
    "# 定义保留字\n",
    "reserved = {\n",
    "    'int': 'INTEGER',\n",
    "    'char': 'CHAR',\n",
    "    'float': 'FLOAT',\n",
    "    'double': 'DOUBLE',\n",
    "    'if': 'IF',\n",
    "    'else': 'ELSE',\n",
    "    # 添加其他关键字...\n",
    "}\n",
    "\n",
    "# 定义 tokens\n",
    "tokens = [\n",
    "    'IDENTIFIER', 'CONSTANT', 'STRING_CONSTANT',\n",
    "    'PLUS', 'MINUS', 'MUL', 'DIV', 'MOD', 'INCREMENT', 'DECREMENT',\n",
    "    'ASSIGN',\n",
    "    'EQUALS', 'NOT_EQUALS', 'LESS_THAN', 'GREATER_THAN', 'LESS_EQUALS', 'GREATER_EQUALS',\n",
    "    'LOGICAL_NOT', 'LOGICAL_OR', 'LOGICAL_AND',\n",
    "    'BITWISE_OR', 'BITWISE_XOR', 'BITWISE_AND', 'SHIFT_LEFT', 'SHIFT_RIGHT', 'BITWISE_NOT',\n",
    "    'COLON', 'CONDITIONAL_OPERATOR',\n",
    "    'COMMA',\n",
    "    'OPEN_PAREN', 'CLOSE_PAREN',\n",
    "    'OPEN_BRACKET', 'CLOSE_BRACKET',\n",
    "    'OPEN_BRACE', 'CLOSE_BRACE',\n",
    "    'SEMICOLON',\n",
    "    'DOT', 'ARROW',\n",
    "] + list(reserved.values())\n",
    "\n",
    "# 定义正则表达式规则\n",
    "t_PLUS = r'\\+'\n",
    "t_MINUS = r'-'\n",
    "t_MUL = r'\\*'\n",
    "t_DIV = r'/'\n",
    "t_MOD = r'%'\n",
    "t_INCREMENT = r'\\+\\+'\n",
    "t_DECREMENT = r'--'\n",
    "t_ASSIGN = r'='\n",
    "t_EQUALS = r'=='\n",
    "t_NOT_EQUALS = r'!='\n",
    "t_LESS_THAN = r'<'\n",
    "t_GREATER_THAN = r'>'\n",
    "t_LESS_EQUALS = r'<='\n",
    "t_GREATER_EQUALS = r'>='\n",
    "t_LOGICAL_NOT = r'!'\n",
    "t_LOGICAL_OR = r'\\|\\|'\n",
    "t_LOGICAL_AND = r'&&'\n",
    "t_BITWISE_OR = r'\\|'\n",
    "t_BITWISE_XOR = r'\\^'\n",
    "t_BITWISE_AND = r'&'\n",
    "t_SHIFT_LEFT = r'<<'\n",
    "t_SHIFT_RIGHT = r'>>'\n",
    "t_BITWISE_NOT = r'~'\n",
    "t_COLON = r':'\n",
    "t_CONDITIONAL_OPERATOR = r'\\?'\n",
    "t_COMMA = r','\n",
    "t_OPEN_PAREN = r'\\('\n",
    "t_CLOSE_PAREN = r'\\)'\n",
    "t_OPEN_BRACKET = r'\\['\n",
    "t_CLOSE_BRACKET = r'\\]'\n",
    "t_OPEN_BRACE = r'\\{'\n",
    "t_CLOSE_BRACE = r'\\}'\n",
    "t_SEMICOLON = r';'\n",
    "t_DOT = r'\\.'\n",
    "t_ARROW = r'->'\n",
    "\n",
    "# 定义标识符和常量的规则\n",
    "def t_IDENTIFIER(t):\n",
    "    r'[a-zA-Z_][a-zA-Z0-9_]*'\n",
    "    t.type = reserved.get(t.value, 'IDENTIFIER')  # 检查是否为保留字\n",
    "    return t\n",
    "\n",
    "def t_CONSTANT(t):\n",
    "    r'\\d+'  # 简化处理，只匹配整数\n",
    "    t.value = int(t.value)\n",
    "    return t\n",
    "\n",
    "def t_STRING_CONSTANT(t):\n",
    "    r'\"[^\"]*\"'\n",
    "    return t\n",
    "\n",
    "# 定义忽略的字符（空格和制表符）\n",
    "t_ignore = ' \\t'\n",
    "\n",
    "# 定义换行符，用于行计数\n",
    "def t_newline(t):\n",
    "    r'\\n+'\n",
    "    t.lexer.lineno += len(t.value)\n",
    "\n",
    "# 定义错误处理规则\n",
    "def t_error(t):\n",
    "    print(f\"Illegal character '{t.value[0]}' at line {t.lineno}\")\n",
    "    t.lexer.skip(1)\n",
    "\n",
    "# 构建词法分析器\n",
    "lexer = lex.lex()\n",
    "\n",
    "# 测试词法分析器\n",
    "data = '''\n",
    "int main() {\n",
    "    int x = 10;\n",
    "    if (x > 5) {\n",
    "        printf(\"Hello, world!\");\n",
    "    } else {\n",
    "        printf(\"Goodbye, world!\");\n",
    "    }\n",
    "    return 0;\n",
    "}\n",
    "'''\n",
    "lexer.input(data)\n",
    "\n",
    "while True:\n",
    "    tok = lexer.token()\n",
    "    if not tok:\n",
    "        break\n",
    "    print(tok)\n"
   ],
   "metadata": {
    "collapsed": false,
    "ExecuteTime": {
     "end_time": "2024-01-01T08:51:28.398479600Z",
     "start_time": "2024-01-01T08:51:28.345857400Z"
    }
   },
   "id": "cbf2196bc06ca3a0"
  },
  {
   "cell_type": "code",
   "execution_count": 21,
   "outputs": [
    {
     "data": {
      "text/plain": "['E:\\\\pycharm\\\\PyCharm2023.2.4\\\\plugins\\\\python\\\\helpers-pro\\\\jupyter_debug',\n 'E:\\\\pycharm\\\\PyCharm2023.2.4\\\\plugins\\\\python\\\\helpers\\\\pydev',\n 'C:\\\\Users\\\\Lenovo\\\\Desktop\\\\编译课设',\n 'C:\\\\Users\\\\Lenovo\\\\Desktop\\\\编译课设',\n 'C:\\\\Users\\\\Lenovo\\\\Desktop\\\\编译课设\\\\Python\\\\Python39\\\\Lib\\\\easygui',\n 'C:\\\\Users\\\\Lenovo\\\\anaconda3\\\\python39.zip',\n 'C:\\\\Users\\\\Lenovo\\\\anaconda3\\\\DLLs',\n 'C:\\\\Users\\\\Lenovo\\\\anaconda3\\\\lib',\n 'C:\\\\Users\\\\Lenovo\\\\anaconda3',\n '',\n 'C:\\\\Users\\\\Lenovo\\\\anaconda3\\\\lib\\\\site-packages',\n 'C:\\\\Users\\\\Lenovo\\\\anaconda3\\\\lib\\\\site-packages\\\\win32',\n 'C:\\\\Users\\\\Lenovo\\\\anaconda3\\\\lib\\\\site-packages\\\\win32\\\\lib',\n 'C:\\\\Users\\\\Lenovo\\\\anaconda3\\\\lib\\\\site-packages\\\\Pythonwin']"
     },
     "execution_count": 21,
     "metadata": {},
     "output_type": "execute_result"
    }
   ],
   "source": [
    "import sys\n",
    "sys.path"
   ],
   "metadata": {
    "collapsed": false,
    "ExecuteTime": {
     "end_time": "2024-01-01T08:53:58.365383600Z",
     "start_time": "2024-01-01T08:53:58.344525100Z"
    }
   },
   "id": "6bfeedcc9a2f8c64"
  },
  {
   "cell_type": "code",
   "execution_count": null,
   "outputs": [],
   "source": [],
   "metadata": {
    "collapsed": false
   },
   "id": "21a786d9a165206e"
  }
 ],
 "metadata": {
  "kernelspec": {
   "display_name": "Python 3",
   "language": "python",
   "name": "python3"
  },
  "language_info": {
   "codemirror_mode": {
    "name": "ipython",
    "version": 2
   },
   "file_extension": ".py",
   "mimetype": "text/x-python",
   "name": "python",
   "nbconvert_exporter": "python",
   "pygments_lexer": "ipython2",
   "version": "2.7.6"
  }
 },
 "nbformat": 4,
 "nbformat_minor": 5
}
